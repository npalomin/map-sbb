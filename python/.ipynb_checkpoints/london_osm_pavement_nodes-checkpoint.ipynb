{
 "cells": [
  {
   "cell_type": "markdown",
   "metadata": {},
   "source": [
    "# OSM Nodes Located in Pavement Polygons - London"
   ]
  },
  {
   "cell_type": "code",
   "execution_count": 1,
   "metadata": {},
   "outputs": [
    {
     "name": "stderr",
     "output_type": "stream",
     "text": [
      "C:\\Anaconda3\\envs\\geoforge\\lib\\site-packages\\sklearn\\linear_model\\least_angle.py:30: DeprecationWarning: `np.float` is a deprecated alias for the builtin `float`. To silence this warning, use `float` by itself. Doing this will not modify any behavior and is safe. If you specifically wanted the numpy scalar type, use `np.float64` here.\n",
      "Deprecated in NumPy 1.20; for more details and guidance: https://numpy.org/devdocs/release/1.20.0-notes.html#deprecations\n",
      "  method='lar', copy_X=True, eps=np.finfo(np.float).eps,\n",
      "C:\\Anaconda3\\envs\\geoforge\\lib\\site-packages\\sklearn\\linear_model\\least_angle.py:167: DeprecationWarning: `np.float` is a deprecated alias for the builtin `float`. To silence this warning, use `float` by itself. Doing this will not modify any behavior and is safe. If you specifically wanted the numpy scalar type, use `np.float64` here.\n",
      "Deprecated in NumPy 1.20; for more details and guidance: https://numpy.org/devdocs/release/1.20.0-notes.html#deprecations\n",
      "  method='lar', copy_X=True, eps=np.finfo(np.float).eps,\n",
      "C:\\Anaconda3\\envs\\geoforge\\lib\\site-packages\\sklearn\\linear_model\\least_angle.py:284: DeprecationWarning: `np.float` is a deprecated alias for the builtin `float`. To silence this warning, use `float` by itself. Doing this will not modify any behavior and is safe. If you specifically wanted the numpy scalar type, use `np.float64` here.\n",
      "Deprecated in NumPy 1.20; for more details and guidance: https://numpy.org/devdocs/release/1.20.0-notes.html#deprecations\n",
      "  eps=np.finfo(np.float).eps, copy_Gram=True, verbose=0,\n",
      "C:\\Anaconda3\\envs\\geoforge\\lib\\site-packages\\sklearn\\linear_model\\least_angle.py:862: DeprecationWarning: `np.float` is a deprecated alias for the builtin `float`. To silence this warning, use `float` by itself. Doing this will not modify any behavior and is safe. If you specifically wanted the numpy scalar type, use `np.float64` here.\n",
      "Deprecated in NumPy 1.20; for more details and guidance: https://numpy.org/devdocs/release/1.20.0-notes.html#deprecations\n",
      "  eps=np.finfo(np.float).eps, copy_X=True, fit_path=True,\n",
      "C:\\Anaconda3\\envs\\geoforge\\lib\\site-packages\\sklearn\\linear_model\\least_angle.py:1101: DeprecationWarning: `np.float` is a deprecated alias for the builtin `float`. To silence this warning, use `float` by itself. Doing this will not modify any behavior and is safe. If you specifically wanted the numpy scalar type, use `np.float64` here.\n",
      "Deprecated in NumPy 1.20; for more details and guidance: https://numpy.org/devdocs/release/1.20.0-notes.html#deprecations\n",
      "  eps=np.finfo(np.float).eps, copy_X=True, fit_path=True,\n",
      "C:\\Anaconda3\\envs\\geoforge\\lib\\site-packages\\sklearn\\linear_model\\least_angle.py:1127: DeprecationWarning: `np.float` is a deprecated alias for the builtin `float`. To silence this warning, use `float` by itself. Doing this will not modify any behavior and is safe. If you specifically wanted the numpy scalar type, use `np.float64` here.\n",
      "Deprecated in NumPy 1.20; for more details and guidance: https://numpy.org/devdocs/release/1.20.0-notes.html#deprecations\n",
      "  eps=np.finfo(np.float).eps, positive=False):\n",
      "C:\\Anaconda3\\envs\\geoforge\\lib\\site-packages\\sklearn\\linear_model\\least_angle.py:1362: DeprecationWarning: `np.float` is a deprecated alias for the builtin `float`. To silence this warning, use `float` by itself. Doing this will not modify any behavior and is safe. If you specifically wanted the numpy scalar type, use `np.float64` here.\n",
      "Deprecated in NumPy 1.20; for more details and guidance: https://numpy.org/devdocs/release/1.20.0-notes.html#deprecations\n",
      "  max_n_alphas=1000, n_jobs=None, eps=np.finfo(np.float).eps,\n",
      "C:\\Anaconda3\\envs\\geoforge\\lib\\site-packages\\sklearn\\linear_model\\least_angle.py:1602: DeprecationWarning: `np.float` is a deprecated alias for the builtin `float`. To silence this warning, use `float` by itself. Doing this will not modify any behavior and is safe. If you specifically wanted the numpy scalar type, use `np.float64` here.\n",
      "Deprecated in NumPy 1.20; for more details and guidance: https://numpy.org/devdocs/release/1.20.0-notes.html#deprecations\n",
      "  max_n_alphas=1000, n_jobs=None, eps=np.finfo(np.float).eps,\n",
      "C:\\Anaconda3\\envs\\geoforge\\lib\\site-packages\\sklearn\\linear_model\\least_angle.py:1738: DeprecationWarning: `np.float` is a deprecated alias for the builtin `float`. To silence this warning, use `float` by itself. Doing this will not modify any behavior and is safe. If you specifically wanted the numpy scalar type, use `np.float64` here.\n",
      "Deprecated in NumPy 1.20; for more details and guidance: https://numpy.org/devdocs/release/1.20.0-notes.html#deprecations\n",
      "  eps=np.finfo(np.float).eps, copy_X=True, positive=False):\n",
      "C:\\Anaconda3\\envs\\geoforge\\lib\\site-packages\\sklearn\\decomposition\\online_lda.py:29: DeprecationWarning: `np.float` is a deprecated alias for the builtin `float`. To silence this warning, use `float` by itself. Doing this will not modify any behavior and is safe. If you specifically wanted the numpy scalar type, use `np.float64` here.\n",
      "Deprecated in NumPy 1.20; for more details and guidance: https://numpy.org/devdocs/release/1.20.0-notes.html#deprecations\n",
      "  EPS = np.finfo(np.float).eps\n"
     ]
    }
   ],
   "source": [
    "import pandas as pd\n",
    "import geopandas as gpd\n",
    "import osmnx as ox\n",
    "import os\n",
    "\n",
    "import requests\n",
    "import json\n",
    "\n",
    "from matplotlib import pyplot as plt"
   ]
  },
  {
   "cell_type": "markdown",
   "metadata": {},
   "source": [
    "## Functions"
   ]
  },
  {
   "cell_type": "code",
   "execution_count": 2,
   "metadata": {},
   "outputs": [],
   "source": [
    "def osm_gdf_from_query(query, url = \"http://overpass-api.de/api/interpreter\", csr = {'init':'epsg:4326'}):\n",
    "    response = requests.get(url, params={'data': query})\n",
    "\n",
    "    status = response.raise_for_status()\n",
    "    if status is not None:\n",
    "        print(status)\n",
    "        return\n",
    "\n",
    "    data = response.json()\n",
    "\n",
    "    if len(data['elements'])>0:\n",
    "        df = pd.DataFrame(data['elements'])\n",
    "\n",
    "        # drop entries with null lat lon\n",
    "        df = df.loc[ (df.lon.notnull()) & (df.lat.notnull()) ]\n",
    "        gdf = gpd.GeoDataFrame(df, geometry = gpd.points_from_xy(df.lon, df.lat))\n",
    "    else:\n",
    "        gdf = gpd.GeoDataFrame()\n",
    "\n",
    "    gdf.crs = osm_crs\n",
    "\n",
    "    return gdf\n",
    "\n",
    "def aggregate_tag_data(tags):\n",
    "    tag_data = {}\n",
    "    for tag in tags:\n",
    "        for key in tag.keys():\n",
    "            if key not in tag_data.keys():\n",
    "                tag_data[key] = {}\n",
    "\n",
    "            value = tag[key]\n",
    "            value = value.strip().replace(\" \", \"_\").lower()\n",
    "\n",
    "            if value not in tag_data[key].keys():\n",
    "                tag_data[key][value] = 1\n",
    "            else:\n",
    "                tag_data[key][value] += 1\n",
    "    return tag_data\n",
    "\n",
    "def tag_bar_chart(series, series_label, ylabel, img_path):\n",
    "    f, ax = plt.subplots(figsize = (10,10))\n",
    "\n",
    "    p1 = ax.bar(series.index, series, 0.9, label=series_label)\n",
    "\n",
    "    ax.axhline(0, color='grey', linewidth=0.8)\n",
    "    ax.set_ylabel(ylabel)\n",
    "    ax.set_xticks(range(len(series.index)))\n",
    "    ax.set_xticklabels(series.index)\n",
    "    ax.legend()\n",
    "    plt.xticks(rotation=30, ha='right')\n",
    "    f.savefig(img_path)\n",
    "    return f, ax"
   ]
  },
  {
   "cell_type": "markdown",
   "metadata": {},
   "source": [
    "## Load pavement and carriadgeway polygons"
   ]
  },
  {
   "cell_type": "code",
   "execution_count": null,
   "metadata": {},
   "outputs": [],
   "source": [
    "osm_crs = {'init':'epsg:4326'}\n",
    "projectCRS = {'init' :'epsg:27700'}\n",
    "\n",
    "topographic_data_dir = \"..\\\\data\\\\london\\\\clapham_common\\\\\"\n",
    "\n",
    "overpass_url = \"http://overpass-api.de/api/interpreter\"\n",
    "\n",
    "pedestrian_polygon_file = os.path.join(topographic_data_dir, \"topographicAreaPedestrian.shp\")\n",
    "vehicle_polygon_file = os.path.join(topographic_data_dir, \"topographicAreaVehicle.shp\")\n",
    "\n",
    "gdfPedTopo = gpd.read_file(pedestrian_polygon_file)\n",
    "gdfVehTopo = gpd.read_file(vehicle_polygon_file)\n",
    "\n",
    "gdfPedTopo = gdfPedTopo.reindex(columns = ['fid', 'descript_1', 'geometry'])\n",
    "gdfVehTopo = gdfVehTopo.reindex(columns = ['fid', 'descript_1', 'geometry'])\n",
    "\n",
    "gdfPedTopo.crs = projectCRS\n",
    "gdfPedTopo = gdfPedTopo.to_crs(osm_crs)\n",
    "gdfVehTopo.crs = projectCRS\n",
    "gdfVehTopo = gdfVehTopo.to_crs(osm_crs)"
   ]
  },
  {
   "cell_type": "code",
   "execution_count": null,
   "metadata": {},
   "outputs": [],
   "source": [
    "# Set study area bounding box\n",
    "e,s,w,n = gdfPedTopo.total_bounds\n",
    "bb_string = \"{},{},{},{}\".format(s,e,n,w)"
   ]
  },
  {
   "cell_type": "markdown",
   "metadata": {},
   "source": [
    "## Query and analyse OSM data"
   ]
  },
  {
   "cell_type": "code",
   "execution_count": null,
   "metadata": {},
   "outputs": [],
   "source": [
    "# OSM query\n",
    "all_bb_metadata = \"\"\"\n",
    "[out:json] [bbox:{}];\n",
    "(\n",
    "  node;\n",
    "  <;\n",
    ");\n",
    "out meta;\n",
    "\"\"\".format(bb_string)"
   ]
  },
  {
   "cell_type": "code",
   "execution_count": null,
   "metadata": {},
   "outputs": [],
   "source": [
    "gdf = osm_gdf_from_query(all_bb_metadata)\n",
    "assert gdf.geometry.is_valid.all()\n",
    "\n",
    "# Spatial join gdf to pedestrian topographic polygons to filter out itmes that are on pavement\n",
    "gdfPed = gpd.sjoin(gdf, gdfPedTopo, how = 'inner')\n",
    "\n",
    "# Descriptive statistics of tags\n",
    "tags = gdfPed.loc[ ~gdfPed['tags'].isnull(), 'tags'].values\n",
    "ped_tag_data = aggregate_tag_data(tags)\n",
    "dfPedAmenities = pd.DataFrame(index = ped_tag_data['amenity'].keys(), data=ped_tag_data['amenity'].values(), columns=['count'])\n",
    "dfPedAmenities.sort_values(by = 'count', ascending=False, inplace=True)\n",
    "\n",
    "# Now plot\n",
    "f, ax = tag_bar_chart(dfPedAmenities['count'], \"Amenities - Pavement\", \"Count\", \".\\\\img\\\\clapham_amenities_ped.png\")\n",
    "f.show()"
   ]
  },
  {
   "cell_type": "code",
   "execution_count": null,
   "metadata": {},
   "outputs": [],
   "source": [
    "gdfVeh = gpd.sjoin(gdf, gdfVehTopo, how = 'inner')\n",
    "tags = gdfVeh.loc[ ~gdfVeh['tags'].isnull(), 'tags'].values\n",
    "veh_tag_data = aggregate_tag_data(tags)\n",
    "dfVehAmenities = pd.DataFrame(index = veh_tag_data['amenity'].keys(), data=veh_tag_data['amenity'].values(), columns=['count'])\n",
    "dfVehAmenities.sort_values(by = 'count', ascending=False, inplace=True)\n",
    "\n",
    "f, ax = tag_bar_chart(dfVehAmenities['count'], \"Amenities - Carriageway\", \"Count\", \".\\\\img\\\\clapham_amenities_veh.png\")\n",
    "f.show()"
   ]
  },
  {
   "cell_type": "code",
   "execution_count": null,
   "metadata": {},
   "outputs": [],
   "source": [
    "# Tags other than 'amenity'\n",
    "print(\"Pavement space tags\")\n",
    "list(ped_tag_data.keys())"
   ]
  },
  {
   "cell_type": "code",
   "execution_count": null,
   "metadata": {},
   "outputs": [],
   "source": [
    "print(\"Carriadgeway space tags\")\n",
    "list(veh_tag_data.keys())"
   ]
  },
  {
   "cell_type": "code",
   "execution_count": null,
   "metadata": {},
   "outputs": [],
   "source": []
  }
 ],
 "metadata": {
  "kernelspec": {
   "display_name": "Python 3",
   "language": "python",
   "name": "python3"
  },
  "language_info": {
   "codemirror_mode": {
    "name": "ipython",
    "version": 3
   },
   "file_extension": ".py",
   "mimetype": "text/x-python",
   "name": "python",
   "nbconvert_exporter": "python",
   "pygments_lexer": "ipython3",
   "version": "3.7.3"
  }
 },
 "nbformat": 4,
 "nbformat_minor": 2
}
