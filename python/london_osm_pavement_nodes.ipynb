{
 "cells": [
  {
   "cell_type": "markdown",
   "metadata": {},
   "source": [
    "# OSM Nodes Located in Pavement Polygons - London"
   ]
  },
  {
   "cell_type": "code",
   "execution_count": 1,
   "metadata": {},
   "outputs": [
    {
     "name": "stderr",
     "output_type": "stream",
     "text": [
      "C:\\Anaconda3\\envs\\geoforge\\lib\\site-packages\\sklearn\\linear_model\\least_angle.py:30: DeprecationWarning: `np.float` is a deprecated alias for the builtin `float`. To silence this warning, use `float` by itself. Doing this will not modify any behavior and is safe. If you specifically wanted the numpy scalar type, use `np.float64` here.\n",
      "Deprecated in NumPy 1.20; for more details and guidance: https://numpy.org/devdocs/release/1.20.0-notes.html#deprecations\n",
      "  method='lar', copy_X=True, eps=np.finfo(np.float).eps,\n",
      "C:\\Anaconda3\\envs\\geoforge\\lib\\site-packages\\sklearn\\linear_model\\least_angle.py:167: DeprecationWarning: `np.float` is a deprecated alias for the builtin `float`. To silence this warning, use `float` by itself. Doing this will not modify any behavior and is safe. If you specifically wanted the numpy scalar type, use `np.float64` here.\n",
      "Deprecated in NumPy 1.20; for more details and guidance: https://numpy.org/devdocs/release/1.20.0-notes.html#deprecations\n",
      "  method='lar', copy_X=True, eps=np.finfo(np.float).eps,\n",
      "C:\\Anaconda3\\envs\\geoforge\\lib\\site-packages\\sklearn\\linear_model\\least_angle.py:284: DeprecationWarning: `np.float` is a deprecated alias for the builtin `float`. To silence this warning, use `float` by itself. Doing this will not modify any behavior and is safe. If you specifically wanted the numpy scalar type, use `np.float64` here.\n",
      "Deprecated in NumPy 1.20; for more details and guidance: https://numpy.org/devdocs/release/1.20.0-notes.html#deprecations\n",
      "  eps=np.finfo(np.float).eps, copy_Gram=True, verbose=0,\n",
      "C:\\Anaconda3\\envs\\geoforge\\lib\\site-packages\\sklearn\\linear_model\\least_angle.py:862: DeprecationWarning: `np.float` is a deprecated alias for the builtin `float`. To silence this warning, use `float` by itself. Doing this will not modify any behavior and is safe. If you specifically wanted the numpy scalar type, use `np.float64` here.\n",
      "Deprecated in NumPy 1.20; for more details and guidance: https://numpy.org/devdocs/release/1.20.0-notes.html#deprecations\n",
      "  eps=np.finfo(np.float).eps, copy_X=True, fit_path=True,\n",
      "C:\\Anaconda3\\envs\\geoforge\\lib\\site-packages\\sklearn\\linear_model\\least_angle.py:1101: DeprecationWarning: `np.float` is a deprecated alias for the builtin `float`. To silence this warning, use `float` by itself. Doing this will not modify any behavior and is safe. If you specifically wanted the numpy scalar type, use `np.float64` here.\n",
      "Deprecated in NumPy 1.20; for more details and guidance: https://numpy.org/devdocs/release/1.20.0-notes.html#deprecations\n",
      "  eps=np.finfo(np.float).eps, copy_X=True, fit_path=True,\n",
      "C:\\Anaconda3\\envs\\geoforge\\lib\\site-packages\\sklearn\\linear_model\\least_angle.py:1127: DeprecationWarning: `np.float` is a deprecated alias for the builtin `float`. To silence this warning, use `float` by itself. Doing this will not modify any behavior and is safe. If you specifically wanted the numpy scalar type, use `np.float64` here.\n",
      "Deprecated in NumPy 1.20; for more details and guidance: https://numpy.org/devdocs/release/1.20.0-notes.html#deprecations\n",
      "  eps=np.finfo(np.float).eps, positive=False):\n",
      "C:\\Anaconda3\\envs\\geoforge\\lib\\site-packages\\sklearn\\linear_model\\least_angle.py:1362: DeprecationWarning: `np.float` is a deprecated alias for the builtin `float`. To silence this warning, use `float` by itself. Doing this will not modify any behavior and is safe. If you specifically wanted the numpy scalar type, use `np.float64` here.\n",
      "Deprecated in NumPy 1.20; for more details and guidance: https://numpy.org/devdocs/release/1.20.0-notes.html#deprecations\n",
      "  max_n_alphas=1000, n_jobs=None, eps=np.finfo(np.float).eps,\n",
      "C:\\Anaconda3\\envs\\geoforge\\lib\\site-packages\\sklearn\\linear_model\\least_angle.py:1602: DeprecationWarning: `np.float` is a deprecated alias for the builtin `float`. To silence this warning, use `float` by itself. Doing this will not modify any behavior and is safe. If you specifically wanted the numpy scalar type, use `np.float64` here.\n",
      "Deprecated in NumPy 1.20; for more details and guidance: https://numpy.org/devdocs/release/1.20.0-notes.html#deprecations\n",
      "  max_n_alphas=1000, n_jobs=None, eps=np.finfo(np.float).eps,\n",
      "C:\\Anaconda3\\envs\\geoforge\\lib\\site-packages\\sklearn\\linear_model\\least_angle.py:1738: DeprecationWarning: `np.float` is a deprecated alias for the builtin `float`. To silence this warning, use `float` by itself. Doing this will not modify any behavior and is safe. If you specifically wanted the numpy scalar type, use `np.float64` here.\n",
      "Deprecated in NumPy 1.20; for more details and guidance: https://numpy.org/devdocs/release/1.20.0-notes.html#deprecations\n",
      "  eps=np.finfo(np.float).eps, copy_X=True, positive=False):\n",
      "C:\\Anaconda3\\envs\\geoforge\\lib\\site-packages\\sklearn\\decomposition\\online_lda.py:29: DeprecationWarning: `np.float` is a deprecated alias for the builtin `float`. To silence this warning, use `float` by itself. Doing this will not modify any behavior and is safe. If you specifically wanted the numpy scalar type, use `np.float64` here.\n",
      "Deprecated in NumPy 1.20; for more details and guidance: https://numpy.org/devdocs/release/1.20.0-notes.html#deprecations\n",
      "  EPS = np.finfo(np.float).eps\n"
     ]
    }
   ],
   "source": [
    "import pandas as pd\n",
    "import geopandas as gpd\n",
    "import osmnx as ox\n",
    "import os\n",
    "\n",
    "import requests\n",
    "import json\n",
    "\n",
    "from matplotlib import pyplot as plt"
   ]
  },
  {
   "cell_type": "markdown",
   "metadata": {},
   "source": [
    "## Functions"
   ]
  },
  {
   "cell_type": "code",
   "execution_count": 2,
   "metadata": {},
   "outputs": [],
   "source": [
    "def osm_gdf_from_query(query, url = \"http://overpass-api.de/api/interpreter\", csr = {'init':'epsg:4326'}):\n",
    "    response = requests.get(url, params={'data': query})\n",
    "\n",
    "    status = response.raise_for_status()\n",
    "    if status is not None:\n",
    "        print(status)\n",
    "        return\n",
    "\n",
    "    data = response.json()\n",
    "\n",
    "    if len(data['elements'])>0:\n",
    "        df = pd.DataFrame(data['elements'])\n",
    "\n",
    "        # drop entries with null lat lon\n",
    "        df = df.loc[ (df.lon.notnull()) & (df.lat.notnull()) ]\n",
    "        gdf = gpd.GeoDataFrame(df, geometry = gpd.points_from_xy(df.lon, df.lat))\n",
    "    else:\n",
    "        gdf = gpd.GeoDataFrame()\n",
    "\n",
    "    gdf.crs = osm_crs\n",
    "\n",
    "    return gdf\n",
    "\n",
    "def aggregate_tag_data(tags):\n",
    "    tag_data = {}\n",
    "    for tag in tags:\n",
    "        for key in tag.keys():\n",
    "            if key not in tag_data.keys():\n",
    "                tag_data[key] = {}\n",
    "\n",
    "            value = tag[key]\n",
    "            value = value.strip().replace(\" \", \"_\").lower()\n",
    "\n",
    "            if value not in tag_data[key].keys():\n",
    "                tag_data[key][value] = 1\n",
    "            else:\n",
    "                tag_data[key][value] += 1\n",
    "    return tag_data\n",
    "\n",
    "def tag_bar_chart(series, series_label, ylabel, img_path):\n",
    "    f, ax = plt.subplots(figsize = (10,10))\n",
    "\n",
    "    p1 = ax.bar(series.index, series, 0.9, label=series_label)\n",
    "\n",
    "    ax.axhline(0, color='grey', linewidth=0.8)\n",
    "    ax.set_ylabel(ylabel)\n",
    "    ax.set_xticks(range(len(series.index)))\n",
    "    ax.set_xticklabels(series.index)\n",
    "    ax.legend()\n",
    "    plt.xticks(rotation=30, ha='right')\n",
    "    f.savefig(img_path)\n",
    "    return f, ax"
   ]
  },
  {
   "cell_type": "markdown",
   "metadata": {},
   "source": [
    "## Load pavement and carriadgeway polygons"
   ]
  },
  {
   "cell_type": "code",
   "execution_count": 3,
   "metadata": {},
   "outputs": [],
   "source": [
    "osm_crs = {'init':'epsg:4326'}\n",
    "projectCRS = {'init' :'epsg:27700'}\n",
    "\n",
    "topographic_data_dir = \"..\\\\data\\\\london\\\\clapham_common\\\\\"\n",
    "\n",
    "overpass_url = \"http://overpass-api.de/api/interpreter\"\n",
    "\n",
    "pedestrian_polygon_file = os.path.join(topographic_data_dir, \"topographicAreaPedestrian.shp\")\n",
    "vehicle_polygon_file = os.path.join(topographic_data_dir, \"topographicAreaVehicle.shp\")\n",
    "\n",
    "gdfPedTopo = gpd.read_file(pedestrian_polygon_file)\n",
    "gdfVehTopo = gpd.read_file(vehicle_polygon_file)\n",
    "\n",
    "gdfPedTopo = gdfPedTopo.reindex(columns = ['fid', 'descript_1', 'geometry'])\n",
    "gdfVehTopo = gdfVehTopo.reindex(columns = ['fid', 'descript_1', 'geometry'])\n",
    "\n",
    "gdfPedTopo.crs = projectCRS\n",
    "gdfPedTopo = gdfPedTopo.to_crs(osm_crs)\n",
    "gdfVehTopo.crs = projectCRS\n",
    "gdfVehTopo = gdfVehTopo.to_crs(osm_crs)"
   ]
  },
  {
   "cell_type": "code",
   "execution_count": 4,
   "metadata": {},
   "outputs": [],
   "source": [
    "# Set study area bounding box\n",
    "e,s,w,n = gdfPedTopo.total_bounds\n",
    "bb_string = \"{},{},{},{}\".format(s,e,n,w)"
   ]
  },
  {
   "cell_type": "markdown",
   "metadata": {},
   "source": [
    "## Query and analyse OSM data"
   ]
  },
  {
   "cell_type": "code",
   "execution_count": 5,
   "metadata": {},
   "outputs": [],
   "source": [
    "# OSM query\n",
    "all_bb_metadata = \"\"\"\n",
    "[out:json] [bbox:{}];\n",
    "(\n",
    "  node;\n",
    "  <;\n",
    ");\n",
    "out meta;\n",
    "\"\"\".format(bb_string)"
   ]
  },
  {
   "cell_type": "code",
   "execution_count": 7,
   "metadata": {},
   "outputs": [
    {
     "name": "stderr",
     "output_type": "stream",
     "text": [
      "C:\\Anaconda3\\envs\\geoforge\\lib\\site-packages\\ipykernel_launcher.py:15: UserWarning: Matplotlib is currently using module://ipykernel.pylab.backend_inline, which is a non-GUI backend, so cannot show the figure.\n",
      "  from ipykernel import kernelapp as app\n"
     ]
    },
    {
     "data": {
      "image/png": "[encoded data removed]",
      "text/plain": [
       "<Figure size 720x720 with 1 Axes>"
      ]
     },
     "metadata": {
      "needs_background": "light"
     },
     "output_type": "display_data"
    }
   ],
   "source": [
    "gdf = osm_gdf_from_query(all_bb_metadata)\n",
    "assert gdf.geometry.is_valid.all()\n",
    "\n",
    "# Spatial join gdf to pedestrian topographic polygons to filter out itmes that are on pavement\n",
    "gdfPed = gpd.sjoin(gdf, gdfPedTopo, how = 'inner')\n",
    "\n",
    "# Descriptive statistics of tags\n",
    "tags = gdfPed.loc[ ~gdfPed['tags'].isnull(), 'tags'].values\n",
    "ped_tag_data = aggregate_tag_data(tags)\n",
    "dfPedAmenities = pd.DataFrame(index = ped_tag_data['amenity'].keys(), data=ped_tag_data['amenity'].values(), columns=['count'])\n",
    "dfPedAmenities.sort_values(by = 'count', ascending=False, inplace=True)\n",
    "\n",
    "# Now plot\n",
    "f, ax = tag_bar_chart(dfPedAmenities['count'], \"Amenities - Pavement\", \"Count\", \"..\\\\images\\\\clapham_amenities_ped.png\")\n",
    "f.show()"
   ]
  },
  {
   "cell_type": "code",
   "execution_count": 8,
   "metadata": {},
   "outputs": [
    {
     "name": "stderr",
     "output_type": "stream",
     "text": [
      "C:\\Anaconda3\\envs\\geoforge\\lib\\site-packages\\ipykernel_launcher.py:8: UserWarning: Matplotlib is currently using module://ipykernel.pylab.backend_inline, which is a non-GUI backend, so cannot show the figure.\n",
      "  \n"
     ]
    },
    {
     "data": {
      "image/png": "[encoded data removed]",
      "text/plain": [
       "<Figure size 720x720 with 1 Axes>"
      ]
     },
     "metadata": {
      "needs_background": "light"
     },
     "output_type": "display_data"
    }
   ],
   "source": [
    "gdfVeh = gpd.sjoin(gdf, gdfVehTopo, how = 'inner')\n",
    "tags = gdfVeh.loc[ ~gdfVeh['tags'].isnull(), 'tags'].values\n",
    "veh_tag_data = aggregate_tag_data(tags)\n",
    "dfVehAmenities = pd.DataFrame(index = veh_tag_data['amenity'].keys(), data=veh_tag_data['amenity'].values(), columns=['count'])\n",
    "dfVehAmenities.sort_values(by = 'count', ascending=False, inplace=True)\n",
    "\n",
    "f, ax = tag_bar_chart(dfVehAmenities['count'], \"Amenities - Carriageway\", \"Count\", \"..\\\\images\\\\clapham_amenities_veh.png\")\n",
    "f.show()"
   ]
  },
  {
   "cell_type": "code",
   "execution_count": 9,
   "metadata": {},
   "outputs": [
    {
     "name": "stdout",
     "output_type": "stream",
     "text": [
      "Pavement space tags\n"
     ]
    },
    {
     "data": {
      "text/plain": [
       "['addr:housenumber',\n",
       " 'addr:postcode',\n",
       " 'addr:street',\n",
       " 'amenity',\n",
       " 'brand',\n",
       " 'brand:wikidata',\n",
       " 'brand:wikipedia',\n",
       " 'cuisine',\n",
       " 'fhrs:authority',\n",
       " 'fhrs:id',\n",
       " 'fhrs:inspectiondate',\n",
       " 'fhrs:rating',\n",
       " 'name',\n",
       " 'outdoor_seating',\n",
       " 'takeaway',\n",
       " 'level',\n",
       " 'official_name',\n",
       " 'healthcare',\n",
       " 'atm',\n",
       " 'shop',\n",
       " 'barrier',\n",
       " 'bicycle',\n",
       " 'bench',\n",
       " 'bus',\n",
       " 'highway',\n",
       " 'local_ref',\n",
       " 'naptan:AtcoCode',\n",
       " 'naptan:Bearing',\n",
       " 'naptan:CommonName',\n",
       " 'naptan:Indicator',\n",
       " 'naptan:Street',\n",
       " 'naptan:verified',\n",
       " 'public_transport',\n",
       " 'shelter',\n",
       " 'post_box:type',\n",
       " 'traffic_calming',\n",
       " 'traffic_signals:direction',\n",
       " 'natural',\n",
       " 'direction',\n",
       " 'bicycle_parking',\n",
       " 'capacity',\n",
       " 'covered',\n",
       " 'source',\n",
       " 'railway',\n",
       " 'wheelchair',\n",
       " 'artwork_type',\n",
       " 'tourism',\n",
       " 'addr:city',\n",
       " 'addr:housename',\n",
       " 'building',\n",
       " 'internet_access',\n",
       " 'note',\n",
       " 'foot',\n",
       " 'continuous',\n",
       " 'sidewalk',\n",
       " 'crossing',\n",
       " 'crossing_ref',\n",
       " 'fare_zone',\n",
       " 'line',\n",
       " 'name:ru',\n",
       " 'network',\n",
       " 'station',\n",
       " 'subway',\n",
       " 'wikidata',\n",
       " 'wikipedia',\n",
       " 'created_by',\n",
       " 'swing_gate:type',\n",
       " 'email',\n",
       " 'phone',\n",
       " 'website',\n",
       " 'booth',\n",
       " 'tfl_id',\n",
       " 'operator',\n",
       " 'ref',\n",
       " 'source:capacity',\n",
       " 'description',\n",
       " 'material',\n",
       " 'toilets',\n",
       " 'toilets:access',\n",
       " 'wifi',\n",
       " 'motor_vehicle',\n",
       " 'fee',\n",
       " 'organic',\n",
       " 'source:addr',\n",
       " 'royal_cypher',\n",
       " 'recycling:batteries',\n",
       " 'recycling:books',\n",
       " 'recycling:cans',\n",
       " 'recycling:cardboard',\n",
       " 'recycling:cartons',\n",
       " 'recycling:cds',\n",
       " 'recycling:clothes',\n",
       " 'recycling:electrical_appliances',\n",
       " 'recycling:glass',\n",
       " 'recycling:glass_bottles',\n",
       " 'recycling:green_waste',\n",
       " 'recycling:low_energy_bulbs',\n",
       " 'recycling:magazines',\n",
       " 'recycling:newspaper',\n",
       " 'recycling:paper',\n",
       " 'recycling:paper_packaging',\n",
       " 'recycling:plastic',\n",
       " 'recycling:plastic_bottles',\n",
       " 'recycling:plastic_packaging',\n",
       " 'recycling:scrap_metal',\n",
       " 'recycling:small_appliances',\n",
       " 'recycling:waste',\n",
       " 'recycling:wood',\n",
       " 'recycling_type',\n",
       " 'alt_name',\n",
       " 'office',\n",
       " 'access',\n",
       " 'emergency',\n",
       " 'departures_board',\n",
       " 'tactile_paving',\n",
       " 'craft',\n",
       " 'branch',\n",
       " 'opening_hours',\n",
       " 'crossing:island',\n",
       " 'check_date',\n",
       " 'colour',\n",
       " 'local',\n",
       " 'official_ref',\n",
       " 'unisex',\n",
       " 'recycling:shoes',\n",
       " 'female',\n",
       " 'fixme',\n",
       " 'horse',\n",
       " 'motorcar',\n",
       " 'motorcycle',\n",
       " 'on_carriageway',\n",
       " 'man_made',\n",
       " 'cycleway',\n",
       " 'button_operated',\n",
       " 'traffic_signals:sound',\n",
       " 'traffic_signals:vibration']"
      ]
     },
     "execution_count": 9,
     "metadata": {},
     "output_type": "execute_result"
    }
   ],
   "source": [
    "# Tags other than 'amenity'\n",
    "print(\"Pavement space tags\")\n",
    "list(ped_tag_data.keys())"
   ]
  },
  {
   "cell_type": "code",
   "execution_count": 10,
   "metadata": {},
   "outputs": [
    {
     "name": "stdout",
     "output_type": "stream",
     "text": [
      "Carriadgeway space tags\n"
     ]
    },
    {
     "data": {
      "text/plain": [
       "['amenity',\n",
       " 'capacity',\n",
       " 'operator',\n",
       " 'source',\n",
       " 'booth',\n",
       " 'covered',\n",
       " 'bus',\n",
       " 'highway',\n",
       " 'local_ref',\n",
       " 'name',\n",
       " 'naptan:AtcoCode',\n",
       " 'naptan:Bearing',\n",
       " 'naptan:CommonName',\n",
       " 'naptan:Indicator',\n",
       " 'naptan:Street',\n",
       " 'naptan:verified',\n",
       " 'public_transport',\n",
       " 'natural',\n",
       " 'traffic_signals:direction',\n",
       " 'traffic_calming',\n",
       " 'barrier',\n",
       " 'bicycle_parking',\n",
       " 'on_carriageway',\n",
       " 'tfl_id',\n",
       " 'continuous',\n",
       " 'sidewalk',\n",
       " 'cycleway',\n",
       " 'direction',\n",
       " 'created_by',\n",
       " 'rcn',\n",
       " 'rcn_name',\n",
       " 'crossing',\n",
       " 'crossing:island',\n",
       " 'crossing_ref',\n",
       " 'traffic_signals',\n",
       " 'addr:housenumber',\n",
       " 'addr:street',\n",
       " 'cuisine',\n",
       " 'alt_name',\n",
       " 'vending',\n",
       " 'access',\n",
       " 'emergency',\n",
       " 'motor_vehicle',\n",
       " 'website',\n",
       " 'bench',\n",
       " 'shelter',\n",
       " 'tactile_paving',\n",
       " 'Continious',\n",
       " 'surface',\n",
       " 'supervised',\n",
       " 'shop',\n",
       " 'colour',\n",
       " 'material',\n",
       " 'button_operated',\n",
       " 'traffic_signals:sound',\n",
       " 'traffic_signals:vibration',\n",
       " 'brand',\n",
       " 'brand:wikidata',\n",
       " 'brand:wikipedia',\n",
       " 'local',\n",
       " 'network',\n",
       " 'official_name',\n",
       " 'official_ref',\n",
       " 'bicycle',\n",
       " 'demolished:highway',\n",
       " 'bollard',\n",
       " 'foot',\n",
       " 'proposed:crossing',\n",
       " 'proposed:crossing_ref',\n",
       " 'proposed:highway',\n",
       " 'source:proposed',\n",
       " 'post_box:type',\n",
       " 'place',\n",
       " 'note',\n",
       " 'ref',\n",
       " 'not:crossing',\n",
       " 'fare_zone',\n",
       " 'line',\n",
       " 'name:ru',\n",
       " 'railway',\n",
       " 'station',\n",
       " 'subway',\n",
       " 'wikidata',\n",
       " 'wikipedia',\n",
       " 'phone',\n",
       " 'vehicle',\n",
       " 'historic',\n",
       " 'inscription',\n",
       " 'openplaques:id',\n",
       " 'recycling:books',\n",
       " 'recycling:cans',\n",
       " 'recycling:cardboard',\n",
       " 'recycling:cartons',\n",
       " 'recycling:clothes',\n",
       " 'recycling:electrical_appliances',\n",
       " 'recycling:magazines',\n",
       " 'recycling:newspaper',\n",
       " 'recycling:paper',\n",
       " 'recycling:small_appliances',\n",
       " 'recycling_type',\n",
       " 'royal_cypher',\n",
       " 'horse',\n",
       " 'man_made',\n",
       " 'surveillance:type',\n",
       " 'surveillance:zone']"
      ]
     },
     "execution_count": 10,
     "metadata": {},
     "output_type": "execute_result"
    }
   ],
   "source": [
    "print(\"Carriadgeway space tags\")\n",
    "list(veh_tag_data.keys())"
   ]
  },
  {
   "cell_type": "code",
   "execution_count": null,
   "metadata": {},
   "outputs": [],
   "source": []
  }
 ],
 "metadata": {
  "kernelspec": {
   "display_name": "Python 3",
   "language": "python",
   "name": "python3"
  },
  "language_info": {
   "codemirror_mode": {
    "name": "ipython",
    "version": 3
   },
   "file_extension": ".py",
   "mimetype": "text/x-python",
   "name": "python",
   "nbconvert_exporter": "python",
   "pygments_lexer": "ipython3",
   "version": "3.7.3"
  }
 },
 "nbformat": 4,
 "nbformat_minor": 2
}
